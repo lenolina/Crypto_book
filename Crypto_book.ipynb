{
 "cells": [
  {
   "cell_type": "markdown",
   "id": "a83efc35-2c0a-4d3b-942e-0697e18eded3",
   "metadata": {
    "tags": []
   },
   "source": [
    "# Metodologia kryptoanalizy"
   ]
  },
  {
   "cell_type": "markdown",
   "id": "3a3d4f32-0723-4a54-abff-d5767749fbe2",
   "metadata": {
    "tags": []
   },
   "source": [
    "## Wstęp\n",
    "Stochastyczne wyszukiwanie lokalne\n",
    "\n",
    "Kryptoanaliza szyfrów klasycznych przy użyciu metaheurystyki wyszukiwania lokalnego"
   ]
  },
  {
   "cell_type": "code",
   "execution_count": null,
   "id": "418958ec-721b-4645-a1c7-61d5b83c31dd",
   "metadata": {},
   "outputs": [],
   "source": [
    "1. tu wpiszcie to, co mniej więcej, znajdzie się we wstępie "
   ]
  },
  {
   "cell_type": "markdown",
   "id": "871d32e8-f226-41c9-9f4b-fcf715d3fd7f",
   "metadata": {},
   "source": [
    "#### Rozdział 1\n",
    "##### Studium przypadku — kolumnowy szyfr transpozycyjny"
   ]
  },
  {
   "cell_type": "markdown",
   "id": "62c6157e-e1b6-428d-a289-2275ebc44585",
   "metadata": {
    "tags": []
   },
   "source": [
    "##### 1.1 Opis szyfru transpozycji kolumnowej"
   ]
  },
  {
   "cell_type": "code",
   "execution_count": null,
   "id": "c8767e67-030b-42b1-8c99-1e3f97f0e4d3",
   "metadata": {},
   "outputs": [],
   "source": []
  },
  {
   "cell_type": "code",
   "execution_count": null,
   "id": "08ac3f70-2949-4e4f-b8e3-4be2a00285b1",
   "metadata": {},
   "outputs": [],
   "source": []
  },
  {
   "cell_type": "code",
   "execution_count": null,
   "id": "0fa4ecf0-e0d7-409b-960f-7708136737d4",
   "metadata": {},
   "outputs": [],
   "source": []
  },
  {
   "cell_type": "code",
   "execution_count": null,
   "id": "80061eb9-a675-413c-a8c2-f74847a409c4",
   "metadata": {},
   "outputs": [],
   "source": []
  },
  {
   "cell_type": "code",
   "execution_count": null,
   "id": "d7e845ed-489f-4903-9333-d1c8ca2a44ea",
   "metadata": {},
   "outputs": [],
   "source": []
  }
 ],
 "metadata": {
  "kernelspec": {
   "display_name": "SageMath 9.5",
   "language": "sage",
   "name": "sagemath"
  },
  "language_info": {
   "codemirror_mode": {
    "name": "ipython",
    "version": 3
   },
   "file_extension": ".py",
   "mimetype": "text/x-python",
   "name": "python",
   "nbconvert_exporter": "python",
   "pygments_lexer": "ipython3",
   "version": "3.10.6"
  }
 },
 "nbformat": 4,
 "nbformat_minor": 5
}
